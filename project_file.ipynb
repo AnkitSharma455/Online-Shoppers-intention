{
 "cells": [
  {
   "cell_type": "code",
   "execution_count": null,
   "metadata": {},
   "outputs": [],
   "source": [
    "import pandas as pd\n",
    "import numpy as np\n",
    "import scipy.stats as st\n",
    "import matplotlib.pyplot as plt\n",
    "%matplotlib inline\n",
    "from sklearn import metrics\n",
    "import seaborn as sns\n",
    "from sklearn.model_selection import train_test_split\n",
    "from sklearn.linear_model import LogisticRegression\n",
    "from sklearn.metrics import confusion_matrix,accuracy_score,roc_auc_score,roc_curve\n",
    "from sklearn.ensemble import RandomForestClassifier\n",
    "from sklearn.neighbors import KNeighborsClassifier\n",
    "from sklearn.preprocessing import StandardScaler\n",
    "from sklearn.model_selection import cross_val_score\n",
    "from sklearn.decomposition import PCA\n",
    "from sklearn import model_selection"
   ]
  },
  {
   "cell_type": "markdown",
   "metadata": {},
   "source": [
    "## Importing Data"
   ]
  },
  {
   "cell_type": "code",
   "execution_count": null,
   "metadata": {},
   "outputs": [],
   "source": [
    "df = pd.read_csv('https://archive.ics.uci.edu/ml/machine-learning-databases/00468/online_shoppers_intention.csv')"
   ]
  },
  {
   "cell_type": "markdown",
   "metadata": {},
   "source": [
    "## Exploratory Data Analysis"
   ]
  },
  {
   "cell_type": "code",
   "execution_count": null,
   "metadata": {},
   "outputs": [],
   "source": [
    "df.head()"
   ]
  },
  {
   "cell_type": "code",
   "execution_count": null,
   "metadata": {},
   "outputs": [],
   "source": [
    "df.shape"
   ]
  },
  {
   "cell_type": "code",
   "execution_count": null,
   "metadata": {},
   "outputs": [],
   "source": [
    "df.info()"
   ]
  },
  {
   "cell_type": "code",
   "execution_count": null,
   "metadata": {},
   "outputs": [],
   "source": [
    "df.isnull().sum()"
   ]
  },
  {
   "cell_type": "code",
   "execution_count": null,
   "metadata": {},
   "outputs": [],
   "source": [
    "df.describe()"
   ]
  },
  {
   "cell_type": "code",
   "execution_count": null,
   "metadata": {},
   "outputs": [],
   "source": [
    "df.describe(include=['object','bool'])"
   ]
  },
  {
   "cell_type": "code",
   "execution_count": null,
   "metadata": {},
   "outputs": [],
   "source": [
    "num_col=['Administrative_Duration',\n",
    "       'Informational_Duration', 'ProductRelated_Duration',\n",
    "       'BounceRates', 'ExitRates', 'PageValues']"
   ]
  },
  {
   "cell_type": "markdown",
   "metadata": {},
   "source": [
    "### Data Visualizations"
   ]
  },
  {
   "cell_type": "code",
   "execution_count": null,
   "metadata": {},
   "outputs": [],
   "source": [
    "plt.figure(figsize=(30,10))\n",
    "df.boxplot()"
   ]
  },
  {
   "cell_type": "code",
   "execution_count": null,
   "metadata": {},
   "outputs": [],
   "source": [
    "df.hist(column=num_col,figsize=(20,20))"
   ]
  },
  {
   "cell_type": "code",
   "execution_count": null,
   "metadata": {},
   "outputs": [],
   "source": [
    "plt.figure(figsize=(10,10))\n",
    "df['Revenue'].value_counts().plot(kind='pie',autopct='%1.1f', textprops={'fontsize': 15},startangle=90,explode =(0.1,0),colors=['slategray','cornflowerblue'])\n",
    "plt.title('Revenue', fontsize = 18)\n",
    "plt.ylabel('')"
   ]
  },
  {
   "cell_type": "code",
   "execution_count": null,
   "metadata": {},
   "outputs": [],
   "source": [
    "plt.title('Number of Customers adding Revenue')\n",
    "sns.countplot(df['Revenue'])"
   ]
  },
  {
   "cell_type": "code",
   "execution_count": null,
   "metadata": {},
   "outputs": [],
   "source": [
    "column1l=['Administrative','Informational','ProductRelated','SpecialDay','OperatingSystems','Browser','Region','TrafficType','Month','VisitorType','Weekend']    \n",
    "plt.figure(figsize=(30,30))\n",
    "plot_number = 0\n",
    "for i in column1l:\n",
    "    plot_number = plot_number + 1\n",
    "    ax = plt.subplot(6, 2, plot_number,adjustable='datalim')\n",
    "    sns.countplot(df[i],hue=df['Revenue'])\n",
    "    ax.set_title('Customers adding Revenue based on '+ i,fontdict=None)\n",
    "    plt.tight_layout()"
   ]
  },
  {
   "cell_type": "code",
   "execution_count": null,
   "metadata": {},
   "outputs": [],
   "source": [
    "df1=df.copy()\n",
    "df1.head()"
   ]
  },
  {
   "cell_type": "code",
   "execution_count": null,
   "metadata": {},
   "outputs": [],
   "source": [
    "df1.hist(column=num_col,figsize=(20,20))"
   ]
  },
  {
   "cell_type": "code",
   "execution_count": null,
   "metadata": {},
   "outputs": [],
   "source": [
    "df1['Administrative_Duration']=1/(df['Administrative_Duration']+1)\n",
    "df1['Informational_Duration'],i = st.boxcox(df['Informational_Duration']+1)\n",
    "df1['ProductRelated_Duration'],pd = st.boxcox(df['ProductRelated_Duration']+1)\n",
    "df1['BounceRates']= df['BounceRates']**0.2 \n",
    "df1['ExitRates']=df['ExitRates']**0.2 \n",
    "df1['PageValues'],p = st.boxcox(df['PageValues']+1)"
   ]
  },
  {
   "cell_type": "code",
   "execution_count": null,
   "metadata": {},
   "outputs": [],
   "source": [
    "df1.hist(column=num_col,figsize=(20,20))"
   ]
  },
  {
   "cell_type": "markdown",
   "metadata": {},
   "source": [
    "## Data preprocessing"
   ]
  },
  {
   "cell_type": "code",
   "execution_count": null,
   "metadata": {},
   "outputs": [],
   "source": [
    "from sklearn.preprocessing import LabelEncoder\n",
    "le = LabelEncoder()\n",
    "\n",
    "df1['Weekend'] = le.fit_transform(df1['Weekend'])\n",
    "df1['Revenue'] = le.fit_transform(df1['Revenue'])\n",
    "df1.head()"
   ]
  },
  {
   "cell_type": "code",
   "execution_count": null,
   "metadata": {},
   "outputs": [],
   "source": [
    "df1['TrafficType'].value_counts()"
   ]
  },
  {
   "cell_type": "code",
   "execution_count": null,
   "metadata": {},
   "outputs": [],
   "source": [
    "top_10_traffic = [x for x in df1['TrafficType'].value_counts().sort_values(ascending=False).head(10).index]\n",
    "top_10_traffic"
   ]
  },
  {
   "cell_type": "code",
   "execution_count": null,
   "metadata": {},
   "outputs": [],
   "source": [
    "def one_hot_top_x(dataframe,variable,top_x_labels):\n",
    "    for label in top_x_labels:\n",
    "        df1[variable+'_'+str(label)] = np.where(df1[variable]==label,1,0)"
   ]
  },
  {
   "cell_type": "code",
   "execution_count": null,
   "metadata": {},
   "outputs": [],
   "source": [
    "one_hot_top_x(df1,'TrafficType',top_10_traffic)\n",
    "df1.head()"
   ]
  },
  {
   "cell_type": "code",
   "execution_count": null,
   "metadata": {},
   "outputs": [],
   "source": [
    "top_8_browser = [x for x in df1['Browser'].value_counts().sort_values(ascending=False).head(8).index]\n",
    "top_8_browser"
   ]
  },
  {
   "cell_type": "code",
   "execution_count": null,
   "metadata": {},
   "outputs": [],
   "source": [
    "one_hot_top_x(df1,'Browser',top_8_browser)\n",
    "df1.head()"
   ]
  },
  {
   "cell_type": "code",
   "execution_count": null,
   "metadata": {},
   "outputs": [],
   "source": [
    "df1.Month.hist()"
   ]
  },
  {
   "cell_type": "code",
   "execution_count": null,
   "metadata": {},
   "outputs": [],
   "source": [
    "top_8_month = [x for x in df1['Month'].value_counts().sort_values(ascending=False).head(8).index]\n",
    "top_8_month"
   ]
  },
  {
   "cell_type": "code",
   "execution_count": null,
   "metadata": {},
   "outputs": [],
   "source": [
    "one_hot_top_x(df1,'Month',top_8_month)\n",
    "df1.head()"
   ]
  },
  {
   "cell_type": "code",
   "execution_count": null,
   "metadata": {},
   "outputs": [],
   "source": [
    "top_5_os = [x for x in df1['OperatingSystems'].value_counts().sort_values(ascending=False).head(5).index]\n",
    "top_5_os"
   ]
  },
  {
   "cell_type": "code",
   "execution_count": null,
   "metadata": {},
   "outputs": [],
   "source": [
    "one_hot_top_x(df1,'OperatingSystems',top_5_os)\n",
    "df1.head()"
   ]
  },
  {
   "cell_type": "code",
   "execution_count": null,
   "metadata": {},
   "outputs": [],
   "source": [
    "labels = [x for x in df1['VisitorType'].value_counts().sort_values(ascending=False).head().index]\n",
    "labels"
   ]
  },
  {
   "cell_type": "code",
   "execution_count": null,
   "metadata": {},
   "outputs": [],
   "source": [
    "def one_hot_encode(dataframe,variable,labels):\n",
    "    for label in labels:\n",
    "        df1[variable+'_'+str(label)] = np.where(df1[variable]==label,1,0)\n",
    "one_hot_encode(df1,'VisitorType',labels)"
   ]
  },
  {
   "cell_type": "code",
   "execution_count": null,
   "metadata": {},
   "outputs": [],
   "source": [
    "df1.head()"
   ]
  },
  {
   "cell_type": "code",
   "execution_count": null,
   "metadata": {},
   "outputs": [],
   "source": [
    "df_final = df1.drop(['Month','OperatingSystems','Browser','TrafficType','VisitorType','Region'],axis=1)\n",
    "df_final.head()"
   ]
  },
  {
   "cell_type": "code",
   "execution_count": null,
   "metadata": {},
   "outputs": [],
   "source": [
    "df_final.shape"
   ]
  },
  {
   "cell_type": "code",
   "execution_count": null,
   "metadata": {},
   "outputs": [],
   "source": [
    "X=df_final.drop(columns=['Revenue'],axis=1)\n",
    "y=df_final['Revenue']"
   ]
  },
  {
   "cell_type": "markdown",
   "metadata": {},
   "source": [
    "## Data Normalization"
   ]
  },
  {
   "cell_type": "code",
   "execution_count": null,
   "metadata": {},
   "outputs": [],
   "source": [
    "ss=StandardScaler()\n",
    "Xs_pca=ss.fit_transform(X)"
   ]
  },
  {
   "cell_type": "code",
   "execution_count": null,
   "metadata": {},
   "outputs": [],
   "source": [
    "pca = PCA(n_components=0.95)\n",
    "X_pca = pca.fit_transform(Xs_pca)"
   ]
  },
  {
   "cell_type": "code",
   "execution_count": null,
   "metadata": {},
   "outputs": [],
   "source": [
    "X_pca.shape"
   ]
  },
  {
   "cell_type": "markdown",
   "metadata": {},
   "source": [
    "## Model Building"
   ]
  },
  {
   "cell_type": "code",
   "execution_count": null,
   "metadata": {},
   "outputs": [],
   "source": [
    "LR_pca=LogisticRegression()\n",
    "rfc_pca=RandomForestClassifier(n_estimators=100,random_state=0)\n",
    "knn_pca=KNeighborsClassifier()"
   ]
  },
  {
   "cell_type": "code",
   "execution_count": null,
   "metadata": {},
   "outputs": [],
   "source": [
    "models_pca=[]\n",
    "models_pca.append(('Logistic',LR_pca))\n",
    "models_pca.append(('Random Forest',rfc_pca))\n",
    "models_pca.append(('KNN',knn_pca))"
   ]
  },
  {
   "cell_type": "markdown",
   "metadata": {},
   "source": [
    "### Performance Analysis"
   ]
  },
  {
   "cell_type": "code",
   "execution_count": null,
   "metadata": {},
   "outputs": [],
   "source": [
    "results_pca=[]\n",
    "acc_score_pca=[]\n",
    "auc_score_pca=[]\n",
    "bias_pca=[]\n",
    "f1_score_pca=[]\n",
    "precision_score_pca=[]\n",
    "recall_score_pca=[]\n",
    "names_pca=[]\n",
    "for name,model in models_pca:\n",
    "    kfold=model_selection.KFold(shuffle=True,n_splits=10,random_state=0)\n",
    "    cv_results=model_selection.cross_val_score(model,X_pca,y,cv=kfold,scoring='roc_auc')\n",
    "    results_pca.append(cv_results)\n",
    "    bias_pca.append(np.var(cv_results,ddof=1))\n",
    "    auc_score_pca.append(np.mean(cv_results))\n",
    "    f1=model_selection.cross_val_score(model,X_pca,y,cv=kfold,scoring='f1_weighted')\n",
    "    f1_score_pca.append(np.mean(f1))\n",
    "    \n",
    "    acc=model_selection.cross_val_score(model,X_pca,y,cv=kfold,scoring='accuracy')\n",
    "    acc_score_pca.append(np.mean(acc))\n",
    "    \n",
    "    p=model_selection.cross_val_score(model,X_pca,y,cv=kfold,scoring='precision_weighted')\n",
    "    precision_score_pca.append(np.mean(p))\n",
    "    \n",
    "    r=model_selection.cross_val_score(model,X_pca,y,cv=kfold,scoring='recall_weighted')\n",
    "    recall_score_pca.append(np.mean(r))\n",
    "    \n",
    "    names_pca.append(name)\n",
    "\n",
    "result_pca_df=pd.DataFrame({'Model':names_pca,\n",
    "                           'Accuracy Score':acc_score_pca,\n",
    "                            'ROC-AUC Score':auc_score_pca,\n",
    "                            'Variance Error':bias_pca,\n",
    "                            'F1 Score':f1_score_pca,\n",
    "                            'Precision Score':precision_score_pca,\n",
    "                            'Recall Score':recall_score_pca})"
   ]
  },
  {
   "cell_type": "code",
   "execution_count": null,
   "metadata": {},
   "outputs": [],
   "source": [
    "result_pca_df"
   ]
  },
  {
   "cell_type": "code",
   "execution_count": null,
   "metadata": {},
   "outputs": [],
   "source": []
  }
 ],
 "metadata": {
  "kernelspec": {
   "display_name": "Python 3",
   "language": "python",
   "name": "python3"
  },
  "language_info": {
   "codemirror_mode": {
    "name": "ipython",
    "version": 3
   },
   "file_extension": ".py",
   "mimetype": "text/x-python",
   "name": "python",
   "nbconvert_exporter": "python",
   "pygments_lexer": "ipython3",
   "version": "3.7.6"
  }
 },
 "nbformat": 4,
 "nbformat_minor": 4
}
